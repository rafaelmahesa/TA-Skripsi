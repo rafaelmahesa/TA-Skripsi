{
 "cells": [
  {
   "cell_type": "code",
   "execution_count": 1,
   "id": "582bdd9d",
   "metadata": {
    "execution": {
     "iopub.execute_input": "2024-05-27T08:11:29.483168Z",
     "iopub.status.busy": "2024-05-27T08:11:29.482507Z",
     "iopub.status.idle": "2024-05-27T08:11:43.314977Z",
     "shell.execute_reply": "2024-05-27T08:11:43.314037Z"
    },
    "papermill": {
     "duration": 13.839157,
     "end_time": "2024-05-27T08:11:43.317054",
     "exception": false,
     "start_time": "2024-05-27T08:11:29.477897",
     "status": "completed"
    },
    "tags": []
   },
   "outputs": [
    {
     "name": "stderr",
     "output_type": "stream",
     "text": [
      "2024-05-27 08:11:31.647102: E external/local_xla/xla/stream_executor/cuda/cuda_dnn.cc:9261] Unable to register cuDNN factory: Attempting to register factory for plugin cuDNN when one has already been registered\n",
      "2024-05-27 08:11:31.647192: E external/local_xla/xla/stream_executor/cuda/cuda_fft.cc:607] Unable to register cuFFT factory: Attempting to register factory for plugin cuFFT when one has already been registered\n",
      "2024-05-27 08:11:31.806084: E external/local_xla/xla/stream_executor/cuda/cuda_blas.cc:1515] Unable to register cuBLAS factory: Attempting to register factory for plugin cuBLAS when one has already been registered\n"
     ]
    },
    {
     "name": "stdout",
     "output_type": "stream",
     "text": [
      "2.15.0\n",
      "3.2.1\n"
     ]
    }
   ],
   "source": [
    "import os\n",
    "import gc\n",
    "import pickle\n",
    "import tensorflow as tf\n",
    "import keras\n",
    "\n",
    "print(tf.__version__)\n",
    "print(keras.__version__)"
   ]
  },
  {
   "cell_type": "code",
   "execution_count": 2,
   "id": "d4272ba6",
   "metadata": {
    "execution": {
     "iopub.execute_input": "2024-05-27T08:11:43.338790Z",
     "iopub.status.busy": "2024-05-27T08:11:43.338119Z",
     "iopub.status.idle": "2024-05-27T08:11:44.564819Z",
     "shell.execute_reply": "2024-05-27T08:11:44.563848Z"
    },
    "papermill": {
     "duration": 1.233528,
     "end_time": "2024-05-27T08:11:44.566985",
     "exception": false,
     "start_time": "2024-05-27T08:11:43.333457",
     "status": "completed"
    },
    "tags": []
   },
   "outputs": [
    {
     "name": "stdout",
     "output_type": "stream",
     "text": [
      "Number of devices: 2\n"
     ]
    }
   ],
   "source": [
    "IMG_WIDTH = 180\n",
    "IMG_HEIGHT = 150\n",
    "EPOCHS = 50\n",
    "BATCH_SIZE = 24\n",
    "PATIENCE = 3\n",
    "K_FOLD = 5\n",
    "GC_COUNT = gc.collect()\n",
    "\n",
    "strategy = tf.distribute.MirroredStrategy()\n",
    "print(\"Number of devices: {}\".format(strategy.num_replicas_in_sync))"
   ]
  },
  {
   "cell_type": "code",
   "execution_count": 3,
   "id": "4e571b80",
   "metadata": {
    "execution": {
     "iopub.execute_input": "2024-05-27T08:11:44.574769Z",
     "iopub.status.busy": "2024-05-27T08:11:44.574258Z",
     "iopub.status.idle": "2024-05-27T08:11:44.581247Z",
     "shell.execute_reply": "2024-05-27T08:11:44.580372Z"
    },
    "papermill": {
     "duration": 0.012898,
     "end_time": "2024-05-27T08:11:44.583156",
     "exception": false,
     "start_time": "2024-05-27T08:11:44.570258",
     "status": "completed"
    },
    "tags": []
   },
   "outputs": [],
   "source": [
    "def data_read_preprocess(fold, train_data=True):\n",
    "    if train_data:\n",
    "        data_dir = f'/kaggle/input/imageoasis-{IMG_HEIGHT}x{IMG_WIDTH}-aug-5fold/fold_{fold}/train'\n",
    "    else:\n",
    "        data_dir = f'/kaggle/input/imageoasis-{IMG_HEIGHT}x{IMG_WIDTH}-aug-5fold/fold_{fold}/val'\n",
    "        \n",
    "    print(f'Reading data from: {data_dir}')\n",
    "    data = tf.keras.preprocessing.image_dataset_from_directory(\n",
    "            data_dir,\n",
    "            labels=\"inferred\", \n",
    "            label_mode=\"categorical\", \n",
    "            color_mode=\"rgb\", \n",
    "            batch_size=BATCH_SIZE,\n",
    "            image_size=(IMG_HEIGHT, IMG_WIDTH))\n",
    "    \n",
    "    data = data.map(\n",
    "        lambda x, y: (tf.keras.applications.xception.preprocess_input(x), y),\n",
    "        num_parallel_calls=tf.data.AUTOTUNE)\n",
    "    \n",
    "    if train_data:\n",
    "        data = data.shuffle(1000)\n",
    "    \n",
    "    data = data.prefetch(tf.data.AUTOTUNE)\n",
    "    \n",
    "    return data"
   ]
  },
  {
   "cell_type": "code",
   "execution_count": 4,
   "id": "4e527101",
   "metadata": {
    "execution": {
     "iopub.execute_input": "2024-05-27T08:11:44.591124Z",
     "iopub.status.busy": "2024-05-27T08:11:44.590528Z",
     "iopub.status.idle": "2024-05-27T08:11:44.599414Z",
     "shell.execute_reply": "2024-05-27T08:11:44.598609Z"
    },
    "papermill": {
     "duration": 0.015206,
     "end_time": "2024-05-27T08:11:44.601393",
     "exception": false,
     "start_time": "2024-05-27T08:11:44.586187",
     "status": "completed"
    },
    "tags": []
   },
   "outputs": [],
   "source": [
    "def get_model(num_of_trainable):\n",
    "    \n",
    "    base_model = tf.keras.applications.xception.Xception(\n",
    "        include_top=False,\n",
    "        input_shape=(IMG_HEIGHT, IMG_WIDTH, 3),\n",
    "        weights='imagenet')\n",
    "    \n",
    "    base_model.trainable = True\n",
    "    num_layers = len(base_model.layers)\n",
    "    for layer in base_model.layers[:(num_layers - num_of_trainable)]:\n",
    "        layer.trainable = False\n",
    "    \n",
    "    inputs = tf.keras.Input(shape=(IMG_HEIGHT, IMG_WIDTH, 3))\n",
    "    x = base_model(inputs)\n",
    "    x = tf.keras.layers.GlobalAveragePooling2D(name=\"GAPool2D\")(x)\n",
    "    x = tf.keras.layers.Dense(512, activation=tf.keras.activations.relu, name=\"FC_1\")(x)\n",
    "    x = tf.keras.layers.Dropout(0.4, name=\"Drop_1\")(x)\n",
    "    outputs = tf.keras.layers.Dense(4, activation=tf.keras.activations.softmax, name=\"FC_classifier\")(x)\n",
    "    model = tf.keras.Model(inputs, outputs)\n",
    "\n",
    "    model.compile(\n",
    "        optimizer=tf.keras.optimizers.Adam(learning_rate=0.0001),\n",
    "        loss=tf.keras.losses.CategoricalCrossentropy(),\n",
    "        metrics=['accuracy'])\n",
    "    \n",
    "    model.summary()\n",
    "    \n",
    "    return model"
   ]
  },
  {
   "cell_type": "code",
   "execution_count": 5,
   "id": "04bbd4ba",
   "metadata": {
    "execution": {
     "iopub.execute_input": "2024-05-27T08:11:44.608724Z",
     "iopub.status.busy": "2024-05-27T08:11:44.608152Z",
     "iopub.status.idle": "2024-05-27T08:11:44.613164Z",
     "shell.execute_reply": "2024-05-27T08:11:44.612342Z"
    },
    "papermill": {
     "duration": 0.010653,
     "end_time": "2024-05-27T08:11:44.615114",
     "exception": false,
     "start_time": "2024-05-27T08:11:44.604461",
     "status": "completed"
    },
    "tags": []
   },
   "outputs": [],
   "source": [
    "def get_callbacks(fold):\n",
    "    callbacks = []\n",
    "    \n",
    "    es = tf.keras.callbacks.EarlyStopping(\n",
    "        monitor=\"val_loss\",\n",
    "        patience=PATIENCE,\n",
    "        restore_best_weights=True)\n",
    "    callbacks.append(es)\n",
    "    \n",
    "    c_log = tf.keras.callbacks.CSVLogger(\n",
    "        filename=f'/kaggle/working/model_log_{IMG_HEIGHT}x{IMG_WIDTH}_{K_FOLD}fold/CSVLogger_fold{fold}.csv',\n",
    "        append=True)\n",
    "    callbacks.append(c_log)\n",
    "    \n",
    "    return callbacks"
   ]
  },
  {
   "cell_type": "code",
   "execution_count": 6,
   "id": "67cb64ea",
   "metadata": {
    "execution": {
     "iopub.execute_input": "2024-05-27T08:11:44.622449Z",
     "iopub.status.busy": "2024-05-27T08:11:44.621754Z",
     "iopub.status.idle": "2024-05-27T08:11:44.625793Z",
     "shell.execute_reply": "2024-05-27T08:11:44.625103Z"
    },
    "papermill": {
     "duration": 0.009488,
     "end_time": "2024-05-27T08:11:44.627619",
     "exception": false,
     "start_time": "2024-05-27T08:11:44.618131",
     "status": "completed"
    },
    "tags": []
   },
   "outputs": [],
   "source": [
    "os.makedirs(f'/kaggle/working/model_log_{IMG_HEIGHT}x{IMG_WIDTH}_{K_FOLD}fold', exist_ok=True)"
   ]
  },
  {
   "cell_type": "code",
   "execution_count": 7,
   "id": "d5b61897",
   "metadata": {
    "execution": {
     "iopub.execute_input": "2024-05-27T08:11:44.634746Z",
     "iopub.status.busy": "2024-05-27T08:11:44.634495Z",
     "iopub.status.idle": "2024-05-27T09:15:50.056764Z",
     "shell.execute_reply": "2024-05-27T09:15:50.055685Z"
    },
    "papermill": {
     "duration": 3845.428441,
     "end_time": "2024-05-27T09:15:50.059216",
     "exception": false,
     "start_time": "2024-05-27T08:11:44.630775",
     "status": "completed"
    },
    "tags": []
   },
   "outputs": [
    {
     "name": "stdout",
     "output_type": "stream",
     "text": [
      "Reading data from: /kaggle/input/imageoasis-150x180-aug-5fold/fold_1/train\n",
      "Found 20000 files belonging to 4 classes.\n",
      "Reading data from: /kaggle/input/imageoasis-150x180-aug-5fold/fold_1/val\n",
      "Found 5000 files belonging to 4 classes.\n",
      "Training for fold-1:\n",
      "Downloading data from https://storage.googleapis.com/tensorflow/keras-applications/xception/xception_weights_tf_dim_ordering_tf_kernels_notop.h5\n",
      "\u001b[1m83683744/83683744\u001b[0m \u001b[32m━━━━━━━━━━━━━━━━━━━━\u001b[0m\u001b[37m\u001b[0m \u001b[1m0s\u001b[0m 0us/step\n"
     ]
    },
    {
     "data": {
      "text/html": [
       "<pre style=\"white-space:pre;overflow-x:auto;line-height:normal;font-family:Menlo,'DejaVu Sans Mono',consolas,'Courier New',monospace\"><span style=\"font-weight: bold\">Model: \"functional_1\"</span>\n",
       "</pre>\n"
      ],
      "text/plain": [
       "\u001b[1mModel: \"functional_1\"\u001b[0m\n"
      ]
     },
     "metadata": {},
     "output_type": "display_data"
    },
    {
     "data": {
      "text/html": [
       "<pre style=\"white-space:pre;overflow-x:auto;line-height:normal;font-family:Menlo,'DejaVu Sans Mono',consolas,'Courier New',monospace\">┏━━━━━━━━━━━━━━━━━━━━━━━━━━━━━━━━━┳━━━━━━━━━━━━━━━━━━━━━━━━┳━━━━━━━━━━━━━━━┓\n",
       "┃<span style=\"font-weight: bold\"> Layer (type)                    </span>┃<span style=\"font-weight: bold\"> Output Shape           </span>┃<span style=\"font-weight: bold\">       Param # </span>┃\n",
       "┡━━━━━━━━━━━━━━━━━━━━━━━━━━━━━━━━━╇━━━━━━━━━━━━━━━━━━━━━━━━╇━━━━━━━━━━━━━━━┩\n",
       "│ input_layer_1 (<span style=\"color: #0087ff; text-decoration-color: #0087ff\">InputLayer</span>)      │ (<span style=\"color: #00d7ff; text-decoration-color: #00d7ff\">None</span>, <span style=\"color: #00af00; text-decoration-color: #00af00\">150</span>, <span style=\"color: #00af00; text-decoration-color: #00af00\">180</span>, <span style=\"color: #00af00; text-decoration-color: #00af00\">3</span>)    │             <span style=\"color: #00af00; text-decoration-color: #00af00\">0</span> │\n",
       "├─────────────────────────────────┼────────────────────────┼───────────────┤\n",
       "│ xception (<span style=\"color: #0087ff; text-decoration-color: #0087ff\">Functional</span>)           │ (<span style=\"color: #00d7ff; text-decoration-color: #00d7ff\">None</span>, <span style=\"color: #00af00; text-decoration-color: #00af00\">5</span>, <span style=\"color: #00af00; text-decoration-color: #00af00\">6</span>, <span style=\"color: #00af00; text-decoration-color: #00af00\">2048</span>)     │    <span style=\"color: #00af00; text-decoration-color: #00af00\">20,861,480</span> │\n",
       "├─────────────────────────────────┼────────────────────────┼───────────────┤\n",
       "│ GAPool2D                        │ (<span style=\"color: #00d7ff; text-decoration-color: #00d7ff\">None</span>, <span style=\"color: #00af00; text-decoration-color: #00af00\">2048</span>)           │             <span style=\"color: #00af00; text-decoration-color: #00af00\">0</span> │\n",
       "│ (<span style=\"color: #0087ff; text-decoration-color: #0087ff\">GlobalAveragePooling2D</span>)        │                        │               │\n",
       "├─────────────────────────────────┼────────────────────────┼───────────────┤\n",
       "│ FC_1 (<span style=\"color: #0087ff; text-decoration-color: #0087ff\">Dense</span>)                    │ (<span style=\"color: #00d7ff; text-decoration-color: #00d7ff\">None</span>, <span style=\"color: #00af00; text-decoration-color: #00af00\">512</span>)            │     <span style=\"color: #00af00; text-decoration-color: #00af00\">1,049,088</span> │\n",
       "├─────────────────────────────────┼────────────────────────┼───────────────┤\n",
       "│ Drop_1 (<span style=\"color: #0087ff; text-decoration-color: #0087ff\">Dropout</span>)                │ (<span style=\"color: #00d7ff; text-decoration-color: #00d7ff\">None</span>, <span style=\"color: #00af00; text-decoration-color: #00af00\">512</span>)            │             <span style=\"color: #00af00; text-decoration-color: #00af00\">0</span> │\n",
       "├─────────────────────────────────┼────────────────────────┼───────────────┤\n",
       "│ FC_classifier (<span style=\"color: #0087ff; text-decoration-color: #0087ff\">Dense</span>)           │ (<span style=\"color: #00d7ff; text-decoration-color: #00d7ff\">None</span>, <span style=\"color: #00af00; text-decoration-color: #00af00\">4</span>)              │         <span style=\"color: #00af00; text-decoration-color: #00af00\">2,052</span> │\n",
       "└─────────────────────────────────┴────────────────────────┴───────────────┘\n",
       "</pre>\n"
      ],
      "text/plain": [
       "┏━━━━━━━━━━━━━━━━━━━━━━━━━━━━━━━━━┳━━━━━━━━━━━━━━━━━━━━━━━━┳━━━━━━━━━━━━━━━┓\n",
       "┃\u001b[1m \u001b[0m\u001b[1mLayer (type)                   \u001b[0m\u001b[1m \u001b[0m┃\u001b[1m \u001b[0m\u001b[1mOutput Shape          \u001b[0m\u001b[1m \u001b[0m┃\u001b[1m \u001b[0m\u001b[1m      Param #\u001b[0m\u001b[1m \u001b[0m┃\n",
       "┡━━━━━━━━━━━━━━━━━━━━━━━━━━━━━━━━━╇━━━━━━━━━━━━━━━━━━━━━━━━╇━━━━━━━━━━━━━━━┩\n",
       "│ input_layer_1 (\u001b[38;5;33mInputLayer\u001b[0m)      │ (\u001b[38;5;45mNone\u001b[0m, \u001b[38;5;34m150\u001b[0m, \u001b[38;5;34m180\u001b[0m, \u001b[38;5;34m3\u001b[0m)    │             \u001b[38;5;34m0\u001b[0m │\n",
       "├─────────────────────────────────┼────────────────────────┼───────────────┤\n",
       "│ xception (\u001b[38;5;33mFunctional\u001b[0m)           │ (\u001b[38;5;45mNone\u001b[0m, \u001b[38;5;34m5\u001b[0m, \u001b[38;5;34m6\u001b[0m, \u001b[38;5;34m2048\u001b[0m)     │    \u001b[38;5;34m20,861,480\u001b[0m │\n",
       "├─────────────────────────────────┼────────────────────────┼───────────────┤\n",
       "│ GAPool2D                        │ (\u001b[38;5;45mNone\u001b[0m, \u001b[38;5;34m2048\u001b[0m)           │             \u001b[38;5;34m0\u001b[0m │\n",
       "│ (\u001b[38;5;33mGlobalAveragePooling2D\u001b[0m)        │                        │               │\n",
       "├─────────────────────────────────┼────────────────────────┼───────────────┤\n",
       "│ FC_1 (\u001b[38;5;33mDense\u001b[0m)                    │ (\u001b[38;5;45mNone\u001b[0m, \u001b[38;5;34m512\u001b[0m)            │     \u001b[38;5;34m1,049,088\u001b[0m │\n",
       "├─────────────────────────────────┼────────────────────────┼───────────────┤\n",
       "│ Drop_1 (\u001b[38;5;33mDropout\u001b[0m)                │ (\u001b[38;5;45mNone\u001b[0m, \u001b[38;5;34m512\u001b[0m)            │             \u001b[38;5;34m0\u001b[0m │\n",
       "├─────────────────────────────────┼────────────────────────┼───────────────┤\n",
       "│ FC_classifier (\u001b[38;5;33mDense\u001b[0m)           │ (\u001b[38;5;45mNone\u001b[0m, \u001b[38;5;34m4\u001b[0m)              │         \u001b[38;5;34m2,052\u001b[0m │\n",
       "└─────────────────────────────────┴────────────────────────┴───────────────┘\n"
      ]
     },
     "metadata": {},
     "output_type": "display_data"
    },
    {
     "data": {
      "text/html": [
       "<pre style=\"white-space:pre;overflow-x:auto;line-height:normal;font-family:Menlo,'DejaVu Sans Mono',consolas,'Courier New',monospace\"><span style=\"font-weight: bold\"> Total params: </span><span style=\"color: #00af00; text-decoration-color: #00af00\">21,912,620</span> (83.59 MB)\n",
       "</pre>\n"
      ],
      "text/plain": [
       "\u001b[1m Total params: \u001b[0m\u001b[38;5;34m21,912,620\u001b[0m (83.59 MB)\n"
      ]
     },
     "metadata": {},
     "output_type": "display_data"
    },
    {
     "data": {
      "text/html": [
       "<pre style=\"white-space:pre;overflow-x:auto;line-height:normal;font-family:Menlo,'DejaVu Sans Mono',consolas,'Courier New',monospace\"><span style=\"font-weight: bold\"> Trainable params: </span><span style=\"color: #00af00; text-decoration-color: #00af00\">5,799,940</span> (22.13 MB)\n",
       "</pre>\n"
      ],
      "text/plain": [
       "\u001b[1m Trainable params: \u001b[0m\u001b[38;5;34m5,799,940\u001b[0m (22.13 MB)\n"
      ]
     },
     "metadata": {},
     "output_type": "display_data"
    },
    {
     "data": {
      "text/html": [
       "<pre style=\"white-space:pre;overflow-x:auto;line-height:normal;font-family:Menlo,'DejaVu Sans Mono',consolas,'Courier New',monospace\"><span style=\"font-weight: bold\"> Non-trainable params: </span><span style=\"color: #00af00; text-decoration-color: #00af00\">16,112,680</span> (61.46 MB)\n",
       "</pre>\n"
      ],
      "text/plain": [
       "\u001b[1m Non-trainable params: \u001b[0m\u001b[38;5;34m16,112,680\u001b[0m (61.46 MB)\n"
      ]
     },
     "metadata": {},
     "output_type": "display_data"
    },
    {
     "name": "stdout",
     "output_type": "stream",
     "text": [
      "Epoch 1/50\n",
      "834/834 - 94s - 113ms/step - accuracy: 0.6815 - loss: 0.7579 - val_accuracy: 0.8020 - val_loss: 0.5193\n",
      "Epoch 2/50\n",
      "834/834 - 56s - 67ms/step - accuracy: 0.8171 - loss: 0.4626 - val_accuracy: 0.8728 - val_loss: 0.3299\n",
      "Epoch 3/50\n",
      "834/834 - 57s - 69ms/step - accuracy: 0.8686 - loss: 0.3441 - val_accuracy: 0.8840 - val_loss: 0.3088\n",
      "Epoch 4/50\n",
      "834/834 - 56s - 67ms/step - accuracy: 0.8906 - loss: 0.2850 - val_accuracy: 0.8936 - val_loss: 0.2773\n",
      "Epoch 5/50\n",
      "834/834 - 56s - 67ms/step - accuracy: 0.9176 - loss: 0.2230 - val_accuracy: 0.9184 - val_loss: 0.2308\n",
      "Epoch 6/50\n",
      "834/834 - 55s - 66ms/step - accuracy: 0.9255 - loss: 0.1985 - val_accuracy: 0.9208 - val_loss: 0.2228\n",
      "Epoch 7/50\n",
      "834/834 - 58s - 69ms/step - accuracy: 0.9400 - loss: 0.1647 - val_accuracy: 0.8972 - val_loss: 0.2861\n",
      "Epoch 8/50\n",
      "834/834 - 55s - 66ms/step - accuracy: 0.9465 - loss: 0.1445 - val_accuracy: 0.9476 - val_loss: 0.1566\n",
      "Epoch 9/50\n",
      "834/834 - 55s - 66ms/step - accuracy: 0.9541 - loss: 0.1210 - val_accuracy: 0.9248 - val_loss: 0.2161\n",
      "Epoch 10/50\n",
      "834/834 - 55s - 66ms/step - accuracy: 0.9550 - loss: 0.1223 - val_accuracy: 0.9328 - val_loss: 0.1990\n",
      "Epoch 11/50\n",
      "834/834 - 55s - 66ms/step - accuracy: 0.9651 - loss: 0.0960 - val_accuracy: 0.9280 - val_loss: 0.2089\n",
      "Garbage collector: collected 53 objects.\n",
      "Reading data from: /kaggle/input/imageoasis-150x180-aug-5fold/fold_2/train\n",
      "Found 20000 files belonging to 4 classes.\n",
      "Reading data from: /kaggle/input/imageoasis-150x180-aug-5fold/fold_2/val\n",
      "Found 5000 files belonging to 4 classes.\n",
      "Training for fold-2:\n"
     ]
    },
    {
     "data": {
      "text/html": [
       "<pre style=\"white-space:pre;overflow-x:auto;line-height:normal;font-family:Menlo,'DejaVu Sans Mono',consolas,'Courier New',monospace\"><span style=\"font-weight: bold\">Model: \"functional_3\"</span>\n",
       "</pre>\n"
      ],
      "text/plain": [
       "\u001b[1mModel: \"functional_3\"\u001b[0m\n"
      ]
     },
     "metadata": {},
     "output_type": "display_data"
    },
    {
     "data": {
      "text/html": [
       "<pre style=\"white-space:pre;overflow-x:auto;line-height:normal;font-family:Menlo,'DejaVu Sans Mono',consolas,'Courier New',monospace\">┏━━━━━━━━━━━━━━━━━━━━━━━━━━━━━━━━━┳━━━━━━━━━━━━━━━━━━━━━━━━┳━━━━━━━━━━━━━━━┓\n",
       "┃<span style=\"font-weight: bold\"> Layer (type)                    </span>┃<span style=\"font-weight: bold\"> Output Shape           </span>┃<span style=\"font-weight: bold\">       Param # </span>┃\n",
       "┡━━━━━━━━━━━━━━━━━━━━━━━━━━━━━━━━━╇━━━━━━━━━━━━━━━━━━━━━━━━╇━━━━━━━━━━━━━━━┩\n",
       "│ input_layer_3 (<span style=\"color: #0087ff; text-decoration-color: #0087ff\">InputLayer</span>)      │ (<span style=\"color: #00d7ff; text-decoration-color: #00d7ff\">None</span>, <span style=\"color: #00af00; text-decoration-color: #00af00\">150</span>, <span style=\"color: #00af00; text-decoration-color: #00af00\">180</span>, <span style=\"color: #00af00; text-decoration-color: #00af00\">3</span>)    │             <span style=\"color: #00af00; text-decoration-color: #00af00\">0</span> │\n",
       "├─────────────────────────────────┼────────────────────────┼───────────────┤\n",
       "│ xception (<span style=\"color: #0087ff; text-decoration-color: #0087ff\">Functional</span>)           │ (<span style=\"color: #00d7ff; text-decoration-color: #00d7ff\">None</span>, <span style=\"color: #00af00; text-decoration-color: #00af00\">5</span>, <span style=\"color: #00af00; text-decoration-color: #00af00\">6</span>, <span style=\"color: #00af00; text-decoration-color: #00af00\">2048</span>)     │    <span style=\"color: #00af00; text-decoration-color: #00af00\">20,861,480</span> │\n",
       "├─────────────────────────────────┼────────────────────────┼───────────────┤\n",
       "│ GAPool2D                        │ (<span style=\"color: #00d7ff; text-decoration-color: #00d7ff\">None</span>, <span style=\"color: #00af00; text-decoration-color: #00af00\">2048</span>)           │             <span style=\"color: #00af00; text-decoration-color: #00af00\">0</span> │\n",
       "│ (<span style=\"color: #0087ff; text-decoration-color: #0087ff\">GlobalAveragePooling2D</span>)        │                        │               │\n",
       "├─────────────────────────────────┼────────────────────────┼───────────────┤\n",
       "│ FC_1 (<span style=\"color: #0087ff; text-decoration-color: #0087ff\">Dense</span>)                    │ (<span style=\"color: #00d7ff; text-decoration-color: #00d7ff\">None</span>, <span style=\"color: #00af00; text-decoration-color: #00af00\">512</span>)            │     <span style=\"color: #00af00; text-decoration-color: #00af00\">1,049,088</span> │\n",
       "├─────────────────────────────────┼────────────────────────┼───────────────┤\n",
       "│ Drop_1 (<span style=\"color: #0087ff; text-decoration-color: #0087ff\">Dropout</span>)                │ (<span style=\"color: #00d7ff; text-decoration-color: #00d7ff\">None</span>, <span style=\"color: #00af00; text-decoration-color: #00af00\">512</span>)            │             <span style=\"color: #00af00; text-decoration-color: #00af00\">0</span> │\n",
       "├─────────────────────────────────┼────────────────────────┼───────────────┤\n",
       "│ FC_classifier (<span style=\"color: #0087ff; text-decoration-color: #0087ff\">Dense</span>)           │ (<span style=\"color: #00d7ff; text-decoration-color: #00d7ff\">None</span>, <span style=\"color: #00af00; text-decoration-color: #00af00\">4</span>)              │         <span style=\"color: #00af00; text-decoration-color: #00af00\">2,052</span> │\n",
       "└─────────────────────────────────┴────────────────────────┴───────────────┘\n",
       "</pre>\n"
      ],
      "text/plain": [
       "┏━━━━━━━━━━━━━━━━━━━━━━━━━━━━━━━━━┳━━━━━━━━━━━━━━━━━━━━━━━━┳━━━━━━━━━━━━━━━┓\n",
       "┃\u001b[1m \u001b[0m\u001b[1mLayer (type)                   \u001b[0m\u001b[1m \u001b[0m┃\u001b[1m \u001b[0m\u001b[1mOutput Shape          \u001b[0m\u001b[1m \u001b[0m┃\u001b[1m \u001b[0m\u001b[1m      Param #\u001b[0m\u001b[1m \u001b[0m┃\n",
       "┡━━━━━━━━━━━━━━━━━━━━━━━━━━━━━━━━━╇━━━━━━━━━━━━━━━━━━━━━━━━╇━━━━━━━━━━━━━━━┩\n",
       "│ input_layer_3 (\u001b[38;5;33mInputLayer\u001b[0m)      │ (\u001b[38;5;45mNone\u001b[0m, \u001b[38;5;34m150\u001b[0m, \u001b[38;5;34m180\u001b[0m, \u001b[38;5;34m3\u001b[0m)    │             \u001b[38;5;34m0\u001b[0m │\n",
       "├─────────────────────────────────┼────────────────────────┼───────────────┤\n",
       "│ xception (\u001b[38;5;33mFunctional\u001b[0m)           │ (\u001b[38;5;45mNone\u001b[0m, \u001b[38;5;34m5\u001b[0m, \u001b[38;5;34m6\u001b[0m, \u001b[38;5;34m2048\u001b[0m)     │    \u001b[38;5;34m20,861,480\u001b[0m │\n",
       "├─────────────────────────────────┼────────────────────────┼───────────────┤\n",
       "│ GAPool2D                        │ (\u001b[38;5;45mNone\u001b[0m, \u001b[38;5;34m2048\u001b[0m)           │             \u001b[38;5;34m0\u001b[0m │\n",
       "│ (\u001b[38;5;33mGlobalAveragePooling2D\u001b[0m)        │                        │               │\n",
       "├─────────────────────────────────┼────────────────────────┼───────────────┤\n",
       "│ FC_1 (\u001b[38;5;33mDense\u001b[0m)                    │ (\u001b[38;5;45mNone\u001b[0m, \u001b[38;5;34m512\u001b[0m)            │     \u001b[38;5;34m1,049,088\u001b[0m │\n",
       "├─────────────────────────────────┼────────────────────────┼───────────────┤\n",
       "│ Drop_1 (\u001b[38;5;33mDropout\u001b[0m)                │ (\u001b[38;5;45mNone\u001b[0m, \u001b[38;5;34m512\u001b[0m)            │             \u001b[38;5;34m0\u001b[0m │\n",
       "├─────────────────────────────────┼────────────────────────┼───────────────┤\n",
       "│ FC_classifier (\u001b[38;5;33mDense\u001b[0m)           │ (\u001b[38;5;45mNone\u001b[0m, \u001b[38;5;34m4\u001b[0m)              │         \u001b[38;5;34m2,052\u001b[0m │\n",
       "└─────────────────────────────────┴────────────────────────┴───────────────┘\n"
      ]
     },
     "metadata": {},
     "output_type": "display_data"
    },
    {
     "data": {
      "text/html": [
       "<pre style=\"white-space:pre;overflow-x:auto;line-height:normal;font-family:Menlo,'DejaVu Sans Mono',consolas,'Courier New',monospace\"><span style=\"font-weight: bold\"> Total params: </span><span style=\"color: #00af00; text-decoration-color: #00af00\">21,912,620</span> (83.59 MB)\n",
       "</pre>\n"
      ],
      "text/plain": [
       "\u001b[1m Total params: \u001b[0m\u001b[38;5;34m21,912,620\u001b[0m (83.59 MB)\n"
      ]
     },
     "metadata": {},
     "output_type": "display_data"
    },
    {
     "data": {
      "text/html": [
       "<pre style=\"white-space:pre;overflow-x:auto;line-height:normal;font-family:Menlo,'DejaVu Sans Mono',consolas,'Courier New',monospace\"><span style=\"font-weight: bold\"> Trainable params: </span><span style=\"color: #00af00; text-decoration-color: #00af00\">5,799,940</span> (22.13 MB)\n",
       "</pre>\n"
      ],
      "text/plain": [
       "\u001b[1m Trainable params: \u001b[0m\u001b[38;5;34m5,799,940\u001b[0m (22.13 MB)\n"
      ]
     },
     "metadata": {},
     "output_type": "display_data"
    },
    {
     "data": {
      "text/html": [
       "<pre style=\"white-space:pre;overflow-x:auto;line-height:normal;font-family:Menlo,'DejaVu Sans Mono',consolas,'Courier New',monospace\"><span style=\"font-weight: bold\"> Non-trainable params: </span><span style=\"color: #00af00; text-decoration-color: #00af00\">16,112,680</span> (61.46 MB)\n",
       "</pre>\n"
      ],
      "text/plain": [
       "\u001b[1m Non-trainable params: \u001b[0m\u001b[38;5;34m16,112,680\u001b[0m (61.46 MB)\n"
      ]
     },
     "metadata": {},
     "output_type": "display_data"
    },
    {
     "name": "stdout",
     "output_type": "stream",
     "text": [
      "Epoch 1/50\n",
      "834/834 - 93s - 112ms/step - accuracy: 0.6859 - loss: 0.7576 - val_accuracy: 0.7916 - val_loss: 0.5289\n",
      "Epoch 2/50\n",
      "834/834 - 57s - 68ms/step - accuracy: 0.8182 - loss: 0.4604 - val_accuracy: 0.8644 - val_loss: 0.3580\n",
      "Epoch 3/50\n",
      "834/834 - 56s - 67ms/step - accuracy: 0.8680 - loss: 0.3450 - val_accuracy: 0.8824 - val_loss: 0.2989\n",
      "Epoch 4/50\n",
      "834/834 - 56s - 67ms/step - accuracy: 0.8965 - loss: 0.2753 - val_accuracy: 0.9020 - val_loss: 0.2567\n",
      "Epoch 5/50\n",
      "834/834 - 56s - 67ms/step - accuracy: 0.9157 - loss: 0.2286 - val_accuracy: 0.9000 - val_loss: 0.2493\n",
      "Epoch 6/50\n",
      "834/834 - 56s - 67ms/step - accuracy: 0.9291 - loss: 0.1926 - val_accuracy: 0.9148 - val_loss: 0.2194\n",
      "Epoch 7/50\n",
      "834/834 - 56s - 67ms/step - accuracy: 0.9408 - loss: 0.1612 - val_accuracy: 0.9108 - val_loss: 0.2901\n",
      "Epoch 8/50\n",
      "834/834 - 55s - 66ms/step - accuracy: 0.9478 - loss: 0.1444 - val_accuracy: 0.9372 - val_loss: 0.1677\n",
      "Epoch 9/50\n",
      "834/834 - 55s - 65ms/step - accuracy: 0.9530 - loss: 0.1291 - val_accuracy: 0.9224 - val_loss: 0.2447\n",
      "Epoch 10/50\n",
      "834/834 - 54s - 65ms/step - accuracy: 0.9580 - loss: 0.1162 - val_accuracy: 0.9360 - val_loss: 0.1697\n",
      "Epoch 11/50\n",
      "834/834 - 56s - 67ms/step - accuracy: 0.9616 - loss: 0.1033 - val_accuracy: 0.9416 - val_loss: 0.1949\n",
      "Garbage collector: collected 53 objects.\n",
      "Reading data from: /kaggle/input/imageoasis-150x180-aug-5fold/fold_3/train\n",
      "Found 20000 files belonging to 4 classes.\n",
      "Reading data from: /kaggle/input/imageoasis-150x180-aug-5fold/fold_3/val\n",
      "Found 5000 files belonging to 4 classes.\n",
      "Training for fold-3:\n"
     ]
    },
    {
     "data": {
      "text/html": [
       "<pre style=\"white-space:pre;overflow-x:auto;line-height:normal;font-family:Menlo,'DejaVu Sans Mono',consolas,'Courier New',monospace\"><span style=\"font-weight: bold\">Model: \"functional_5\"</span>\n",
       "</pre>\n"
      ],
      "text/plain": [
       "\u001b[1mModel: \"functional_5\"\u001b[0m\n"
      ]
     },
     "metadata": {},
     "output_type": "display_data"
    },
    {
     "data": {
      "text/html": [
       "<pre style=\"white-space:pre;overflow-x:auto;line-height:normal;font-family:Menlo,'DejaVu Sans Mono',consolas,'Courier New',monospace\">┏━━━━━━━━━━━━━━━━━━━━━━━━━━━━━━━━━┳━━━━━━━━━━━━━━━━━━━━━━━━┳━━━━━━━━━━━━━━━┓\n",
       "┃<span style=\"font-weight: bold\"> Layer (type)                    </span>┃<span style=\"font-weight: bold\"> Output Shape           </span>┃<span style=\"font-weight: bold\">       Param # </span>┃\n",
       "┡━━━━━━━━━━━━━━━━━━━━━━━━━━━━━━━━━╇━━━━━━━━━━━━━━━━━━━━━━━━╇━━━━━━━━━━━━━━━┩\n",
       "│ input_layer_5 (<span style=\"color: #0087ff; text-decoration-color: #0087ff\">InputLayer</span>)      │ (<span style=\"color: #00d7ff; text-decoration-color: #00d7ff\">None</span>, <span style=\"color: #00af00; text-decoration-color: #00af00\">150</span>, <span style=\"color: #00af00; text-decoration-color: #00af00\">180</span>, <span style=\"color: #00af00; text-decoration-color: #00af00\">3</span>)    │             <span style=\"color: #00af00; text-decoration-color: #00af00\">0</span> │\n",
       "├─────────────────────────────────┼────────────────────────┼───────────────┤\n",
       "│ xception (<span style=\"color: #0087ff; text-decoration-color: #0087ff\">Functional</span>)           │ (<span style=\"color: #00d7ff; text-decoration-color: #00d7ff\">None</span>, <span style=\"color: #00af00; text-decoration-color: #00af00\">5</span>, <span style=\"color: #00af00; text-decoration-color: #00af00\">6</span>, <span style=\"color: #00af00; text-decoration-color: #00af00\">2048</span>)     │    <span style=\"color: #00af00; text-decoration-color: #00af00\">20,861,480</span> │\n",
       "├─────────────────────────────────┼────────────────────────┼───────────────┤\n",
       "│ GAPool2D                        │ (<span style=\"color: #00d7ff; text-decoration-color: #00d7ff\">None</span>, <span style=\"color: #00af00; text-decoration-color: #00af00\">2048</span>)           │             <span style=\"color: #00af00; text-decoration-color: #00af00\">0</span> │\n",
       "│ (<span style=\"color: #0087ff; text-decoration-color: #0087ff\">GlobalAveragePooling2D</span>)        │                        │               │\n",
       "├─────────────────────────────────┼────────────────────────┼───────────────┤\n",
       "│ FC_1 (<span style=\"color: #0087ff; text-decoration-color: #0087ff\">Dense</span>)                    │ (<span style=\"color: #00d7ff; text-decoration-color: #00d7ff\">None</span>, <span style=\"color: #00af00; text-decoration-color: #00af00\">512</span>)            │     <span style=\"color: #00af00; text-decoration-color: #00af00\">1,049,088</span> │\n",
       "├─────────────────────────────────┼────────────────────────┼───────────────┤\n",
       "│ Drop_1 (<span style=\"color: #0087ff; text-decoration-color: #0087ff\">Dropout</span>)                │ (<span style=\"color: #00d7ff; text-decoration-color: #00d7ff\">None</span>, <span style=\"color: #00af00; text-decoration-color: #00af00\">512</span>)            │             <span style=\"color: #00af00; text-decoration-color: #00af00\">0</span> │\n",
       "├─────────────────────────────────┼────────────────────────┼───────────────┤\n",
       "│ FC_classifier (<span style=\"color: #0087ff; text-decoration-color: #0087ff\">Dense</span>)           │ (<span style=\"color: #00d7ff; text-decoration-color: #00d7ff\">None</span>, <span style=\"color: #00af00; text-decoration-color: #00af00\">4</span>)              │         <span style=\"color: #00af00; text-decoration-color: #00af00\">2,052</span> │\n",
       "└─────────────────────────────────┴────────────────────────┴───────────────┘\n",
       "</pre>\n"
      ],
      "text/plain": [
       "┏━━━━━━━━━━━━━━━━━━━━━━━━━━━━━━━━━┳━━━━━━━━━━━━━━━━━━━━━━━━┳━━━━━━━━━━━━━━━┓\n",
       "┃\u001b[1m \u001b[0m\u001b[1mLayer (type)                   \u001b[0m\u001b[1m \u001b[0m┃\u001b[1m \u001b[0m\u001b[1mOutput Shape          \u001b[0m\u001b[1m \u001b[0m┃\u001b[1m \u001b[0m\u001b[1m      Param #\u001b[0m\u001b[1m \u001b[0m┃\n",
       "┡━━━━━━━━━━━━━━━━━━━━━━━━━━━━━━━━━╇━━━━━━━━━━━━━━━━━━━━━━━━╇━━━━━━━━━━━━━━━┩\n",
       "│ input_layer_5 (\u001b[38;5;33mInputLayer\u001b[0m)      │ (\u001b[38;5;45mNone\u001b[0m, \u001b[38;5;34m150\u001b[0m, \u001b[38;5;34m180\u001b[0m, \u001b[38;5;34m3\u001b[0m)    │             \u001b[38;5;34m0\u001b[0m │\n",
       "├─────────────────────────────────┼────────────────────────┼───────────────┤\n",
       "│ xception (\u001b[38;5;33mFunctional\u001b[0m)           │ (\u001b[38;5;45mNone\u001b[0m, \u001b[38;5;34m5\u001b[0m, \u001b[38;5;34m6\u001b[0m, \u001b[38;5;34m2048\u001b[0m)     │    \u001b[38;5;34m20,861,480\u001b[0m │\n",
       "├─────────────────────────────────┼────────────────────────┼───────────────┤\n",
       "│ GAPool2D                        │ (\u001b[38;5;45mNone\u001b[0m, \u001b[38;5;34m2048\u001b[0m)           │             \u001b[38;5;34m0\u001b[0m │\n",
       "│ (\u001b[38;5;33mGlobalAveragePooling2D\u001b[0m)        │                        │               │\n",
       "├─────────────────────────────────┼────────────────────────┼───────────────┤\n",
       "│ FC_1 (\u001b[38;5;33mDense\u001b[0m)                    │ (\u001b[38;5;45mNone\u001b[0m, \u001b[38;5;34m512\u001b[0m)            │     \u001b[38;5;34m1,049,088\u001b[0m │\n",
       "├─────────────────────────────────┼────────────────────────┼───────────────┤\n",
       "│ Drop_1 (\u001b[38;5;33mDropout\u001b[0m)                │ (\u001b[38;5;45mNone\u001b[0m, \u001b[38;5;34m512\u001b[0m)            │             \u001b[38;5;34m0\u001b[0m │\n",
       "├─────────────────────────────────┼────────────────────────┼───────────────┤\n",
       "│ FC_classifier (\u001b[38;5;33mDense\u001b[0m)           │ (\u001b[38;5;45mNone\u001b[0m, \u001b[38;5;34m4\u001b[0m)              │         \u001b[38;5;34m2,052\u001b[0m │\n",
       "└─────────────────────────────────┴────────────────────────┴───────────────┘\n"
      ]
     },
     "metadata": {},
     "output_type": "display_data"
    },
    {
     "data": {
      "text/html": [
       "<pre style=\"white-space:pre;overflow-x:auto;line-height:normal;font-family:Menlo,'DejaVu Sans Mono',consolas,'Courier New',monospace\"><span style=\"font-weight: bold\"> Total params: </span><span style=\"color: #00af00; text-decoration-color: #00af00\">21,912,620</span> (83.59 MB)\n",
       "</pre>\n"
      ],
      "text/plain": [
       "\u001b[1m Total params: \u001b[0m\u001b[38;5;34m21,912,620\u001b[0m (83.59 MB)\n"
      ]
     },
     "metadata": {},
     "output_type": "display_data"
    },
    {
     "data": {
      "text/html": [
       "<pre style=\"white-space:pre;overflow-x:auto;line-height:normal;font-family:Menlo,'DejaVu Sans Mono',consolas,'Courier New',monospace\"><span style=\"font-weight: bold\"> Trainable params: </span><span style=\"color: #00af00; text-decoration-color: #00af00\">5,799,940</span> (22.13 MB)\n",
       "</pre>\n"
      ],
      "text/plain": [
       "\u001b[1m Trainable params: \u001b[0m\u001b[38;5;34m5,799,940\u001b[0m (22.13 MB)\n"
      ]
     },
     "metadata": {},
     "output_type": "display_data"
    },
    {
     "data": {
      "text/html": [
       "<pre style=\"white-space:pre;overflow-x:auto;line-height:normal;font-family:Menlo,'DejaVu Sans Mono',consolas,'Courier New',monospace\"><span style=\"font-weight: bold\"> Non-trainable params: </span><span style=\"color: #00af00; text-decoration-color: #00af00\">16,112,680</span> (61.46 MB)\n",
       "</pre>\n"
      ],
      "text/plain": [
       "\u001b[1m Non-trainable params: \u001b[0m\u001b[38;5;34m16,112,680\u001b[0m (61.46 MB)\n"
      ]
     },
     "metadata": {},
     "output_type": "display_data"
    },
    {
     "name": "stdout",
     "output_type": "stream",
     "text": [
      "Epoch 1/50\n",
      "834/834 - 89s - 107ms/step - accuracy: 0.6843 - loss: 0.7576 - val_accuracy: 0.8080 - val_loss: 0.4821\n",
      "Epoch 2/50\n",
      "834/834 - 56s - 68ms/step - accuracy: 0.8220 - loss: 0.4607 - val_accuracy: 0.8764 - val_loss: 0.3198\n",
      "Epoch 3/50\n",
      "834/834 - 56s - 67ms/step - accuracy: 0.8603 - loss: 0.3582 - val_accuracy: 0.8840 - val_loss: 0.2892\n",
      "Epoch 4/50\n",
      "834/834 - 58s - 69ms/step - accuracy: 0.8979 - loss: 0.2729 - val_accuracy: 0.8980 - val_loss: 0.2788\n",
      "Epoch 5/50\n",
      "834/834 - 55s - 66ms/step - accuracy: 0.9176 - loss: 0.2238 - val_accuracy: 0.9096 - val_loss: 0.2484\n",
      "Epoch 6/50\n",
      "834/834 - 55s - 66ms/step - accuracy: 0.9313 - loss: 0.1861 - val_accuracy: 0.9116 - val_loss: 0.2383\n",
      "Epoch 7/50\n",
      "834/834 - 55s - 66ms/step - accuracy: 0.9394 - loss: 0.1638 - val_accuracy: 0.9224 - val_loss: 0.2249\n",
      "Epoch 8/50\n",
      "834/834 - 55s - 67ms/step - accuracy: 0.9468 - loss: 0.1441 - val_accuracy: 0.9144 - val_loss: 0.2235\n",
      "Epoch 9/50\n",
      "834/834 - 55s - 66ms/step - accuracy: 0.9532 - loss: 0.1286 - val_accuracy: 0.9184 - val_loss: 0.2691\n",
      "Epoch 10/50\n",
      "834/834 - 54s - 65ms/step - accuracy: 0.9599 - loss: 0.1156 - val_accuracy: 0.9244 - val_loss: 0.2056\n",
      "Epoch 11/50\n",
      "834/834 - 55s - 66ms/step - accuracy: 0.9621 - loss: 0.1013 - val_accuracy: 0.9184 - val_loss: 0.2522\n",
      "Epoch 12/50\n",
      "834/834 - 54s - 65ms/step - accuracy: 0.9660 - loss: 0.0935 - val_accuracy: 0.9324 - val_loss: 0.2291\n",
      "Epoch 13/50\n",
      "834/834 - 54s - 65ms/step - accuracy: 0.9675 - loss: 0.0840 - val_accuracy: 0.9340 - val_loss: 0.2148\n",
      "Garbage collector: collected 53 objects.\n",
      "Reading data from: /kaggle/input/imageoasis-150x180-aug-5fold/fold_4/train\n",
      "Found 20000 files belonging to 4 classes.\n",
      "Reading data from: /kaggle/input/imageoasis-150x180-aug-5fold/fold_4/val\n",
      "Found 5000 files belonging to 4 classes.\n",
      "Training for fold-4:\n"
     ]
    },
    {
     "data": {
      "text/html": [
       "<pre style=\"white-space:pre;overflow-x:auto;line-height:normal;font-family:Menlo,'DejaVu Sans Mono',consolas,'Courier New',monospace\"><span style=\"font-weight: bold\">Model: \"functional_7\"</span>\n",
       "</pre>\n"
      ],
      "text/plain": [
       "\u001b[1mModel: \"functional_7\"\u001b[0m\n"
      ]
     },
     "metadata": {},
     "output_type": "display_data"
    },
    {
     "data": {
      "text/html": [
       "<pre style=\"white-space:pre;overflow-x:auto;line-height:normal;font-family:Menlo,'DejaVu Sans Mono',consolas,'Courier New',monospace\">┏━━━━━━━━━━━━━━━━━━━━━━━━━━━━━━━━━┳━━━━━━━━━━━━━━━━━━━━━━━━┳━━━━━━━━━━━━━━━┓\n",
       "┃<span style=\"font-weight: bold\"> Layer (type)                    </span>┃<span style=\"font-weight: bold\"> Output Shape           </span>┃<span style=\"font-weight: bold\">       Param # </span>┃\n",
       "┡━━━━━━━━━━━━━━━━━━━━━━━━━━━━━━━━━╇━━━━━━━━━━━━━━━━━━━━━━━━╇━━━━━━━━━━━━━━━┩\n",
       "│ input_layer_7 (<span style=\"color: #0087ff; text-decoration-color: #0087ff\">InputLayer</span>)      │ (<span style=\"color: #00d7ff; text-decoration-color: #00d7ff\">None</span>, <span style=\"color: #00af00; text-decoration-color: #00af00\">150</span>, <span style=\"color: #00af00; text-decoration-color: #00af00\">180</span>, <span style=\"color: #00af00; text-decoration-color: #00af00\">3</span>)    │             <span style=\"color: #00af00; text-decoration-color: #00af00\">0</span> │\n",
       "├─────────────────────────────────┼────────────────────────┼───────────────┤\n",
       "│ xception (<span style=\"color: #0087ff; text-decoration-color: #0087ff\">Functional</span>)           │ (<span style=\"color: #00d7ff; text-decoration-color: #00d7ff\">None</span>, <span style=\"color: #00af00; text-decoration-color: #00af00\">5</span>, <span style=\"color: #00af00; text-decoration-color: #00af00\">6</span>, <span style=\"color: #00af00; text-decoration-color: #00af00\">2048</span>)     │    <span style=\"color: #00af00; text-decoration-color: #00af00\">20,861,480</span> │\n",
       "├─────────────────────────────────┼────────────────────────┼───────────────┤\n",
       "│ GAPool2D                        │ (<span style=\"color: #00d7ff; text-decoration-color: #00d7ff\">None</span>, <span style=\"color: #00af00; text-decoration-color: #00af00\">2048</span>)           │             <span style=\"color: #00af00; text-decoration-color: #00af00\">0</span> │\n",
       "│ (<span style=\"color: #0087ff; text-decoration-color: #0087ff\">GlobalAveragePooling2D</span>)        │                        │               │\n",
       "├─────────────────────────────────┼────────────────────────┼───────────────┤\n",
       "│ FC_1 (<span style=\"color: #0087ff; text-decoration-color: #0087ff\">Dense</span>)                    │ (<span style=\"color: #00d7ff; text-decoration-color: #00d7ff\">None</span>, <span style=\"color: #00af00; text-decoration-color: #00af00\">512</span>)            │     <span style=\"color: #00af00; text-decoration-color: #00af00\">1,049,088</span> │\n",
       "├─────────────────────────────────┼────────────────────────┼───────────────┤\n",
       "│ Drop_1 (<span style=\"color: #0087ff; text-decoration-color: #0087ff\">Dropout</span>)                │ (<span style=\"color: #00d7ff; text-decoration-color: #00d7ff\">None</span>, <span style=\"color: #00af00; text-decoration-color: #00af00\">512</span>)            │             <span style=\"color: #00af00; text-decoration-color: #00af00\">0</span> │\n",
       "├─────────────────────────────────┼────────────────────────┼───────────────┤\n",
       "│ FC_classifier (<span style=\"color: #0087ff; text-decoration-color: #0087ff\">Dense</span>)           │ (<span style=\"color: #00d7ff; text-decoration-color: #00d7ff\">None</span>, <span style=\"color: #00af00; text-decoration-color: #00af00\">4</span>)              │         <span style=\"color: #00af00; text-decoration-color: #00af00\">2,052</span> │\n",
       "└─────────────────────────────────┴────────────────────────┴───────────────┘\n",
       "</pre>\n"
      ],
      "text/plain": [
       "┏━━━━━━━━━━━━━━━━━━━━━━━━━━━━━━━━━┳━━━━━━━━━━━━━━━━━━━━━━━━┳━━━━━━━━━━━━━━━┓\n",
       "┃\u001b[1m \u001b[0m\u001b[1mLayer (type)                   \u001b[0m\u001b[1m \u001b[0m┃\u001b[1m \u001b[0m\u001b[1mOutput Shape          \u001b[0m\u001b[1m \u001b[0m┃\u001b[1m \u001b[0m\u001b[1m      Param #\u001b[0m\u001b[1m \u001b[0m┃\n",
       "┡━━━━━━━━━━━━━━━━━━━━━━━━━━━━━━━━━╇━━━━━━━━━━━━━━━━━━━━━━━━╇━━━━━━━━━━━━━━━┩\n",
       "│ input_layer_7 (\u001b[38;5;33mInputLayer\u001b[0m)      │ (\u001b[38;5;45mNone\u001b[0m, \u001b[38;5;34m150\u001b[0m, \u001b[38;5;34m180\u001b[0m, \u001b[38;5;34m3\u001b[0m)    │             \u001b[38;5;34m0\u001b[0m │\n",
       "├─────────────────────────────────┼────────────────────────┼───────────────┤\n",
       "│ xception (\u001b[38;5;33mFunctional\u001b[0m)           │ (\u001b[38;5;45mNone\u001b[0m, \u001b[38;5;34m5\u001b[0m, \u001b[38;5;34m6\u001b[0m, \u001b[38;5;34m2048\u001b[0m)     │    \u001b[38;5;34m20,861,480\u001b[0m │\n",
       "├─────────────────────────────────┼────────────────────────┼───────────────┤\n",
       "│ GAPool2D                        │ (\u001b[38;5;45mNone\u001b[0m, \u001b[38;5;34m2048\u001b[0m)           │             \u001b[38;5;34m0\u001b[0m │\n",
       "│ (\u001b[38;5;33mGlobalAveragePooling2D\u001b[0m)        │                        │               │\n",
       "├─────────────────────────────────┼────────────────────────┼───────────────┤\n",
       "│ FC_1 (\u001b[38;5;33mDense\u001b[0m)                    │ (\u001b[38;5;45mNone\u001b[0m, \u001b[38;5;34m512\u001b[0m)            │     \u001b[38;5;34m1,049,088\u001b[0m │\n",
       "├─────────────────────────────────┼────────────────────────┼───────────────┤\n",
       "│ Drop_1 (\u001b[38;5;33mDropout\u001b[0m)                │ (\u001b[38;5;45mNone\u001b[0m, \u001b[38;5;34m512\u001b[0m)            │             \u001b[38;5;34m0\u001b[0m │\n",
       "├─────────────────────────────────┼────────────────────────┼───────────────┤\n",
       "│ FC_classifier (\u001b[38;5;33mDense\u001b[0m)           │ (\u001b[38;5;45mNone\u001b[0m, \u001b[38;5;34m4\u001b[0m)              │         \u001b[38;5;34m2,052\u001b[0m │\n",
       "└─────────────────────────────────┴────────────────────────┴───────────────┘\n"
      ]
     },
     "metadata": {},
     "output_type": "display_data"
    },
    {
     "data": {
      "text/html": [
       "<pre style=\"white-space:pre;overflow-x:auto;line-height:normal;font-family:Menlo,'DejaVu Sans Mono',consolas,'Courier New',monospace\"><span style=\"font-weight: bold\"> Total params: </span><span style=\"color: #00af00; text-decoration-color: #00af00\">21,912,620</span> (83.59 MB)\n",
       "</pre>\n"
      ],
      "text/plain": [
       "\u001b[1m Total params: \u001b[0m\u001b[38;5;34m21,912,620\u001b[0m (83.59 MB)\n"
      ]
     },
     "metadata": {},
     "output_type": "display_data"
    },
    {
     "data": {
      "text/html": [
       "<pre style=\"white-space:pre;overflow-x:auto;line-height:normal;font-family:Menlo,'DejaVu Sans Mono',consolas,'Courier New',monospace\"><span style=\"font-weight: bold\"> Trainable params: </span><span style=\"color: #00af00; text-decoration-color: #00af00\">5,799,940</span> (22.13 MB)\n",
       "</pre>\n"
      ],
      "text/plain": [
       "\u001b[1m Trainable params: \u001b[0m\u001b[38;5;34m5,799,940\u001b[0m (22.13 MB)\n"
      ]
     },
     "metadata": {},
     "output_type": "display_data"
    },
    {
     "data": {
      "text/html": [
       "<pre style=\"white-space:pre;overflow-x:auto;line-height:normal;font-family:Menlo,'DejaVu Sans Mono',consolas,'Courier New',monospace\"><span style=\"font-weight: bold\"> Non-trainable params: </span><span style=\"color: #00af00; text-decoration-color: #00af00\">16,112,680</span> (61.46 MB)\n",
       "</pre>\n"
      ],
      "text/plain": [
       "\u001b[1m Non-trainable params: \u001b[0m\u001b[38;5;34m16,112,680\u001b[0m (61.46 MB)\n"
      ]
     },
     "metadata": {},
     "output_type": "display_data"
    },
    {
     "name": "stdout",
     "output_type": "stream",
     "text": [
      "Epoch 1/50\n",
      "834/834 - 93s - 111ms/step - accuracy: 0.6872 - loss: 0.7543 - val_accuracy: 0.8152 - val_loss: 0.4511\n",
      "Epoch 2/50\n",
      "834/834 - 58s - 69ms/step - accuracy: 0.8208 - loss: 0.4538 - val_accuracy: 0.8496 - val_loss: 0.3789\n",
      "Epoch 3/50\n",
      "834/834 - 57s - 69ms/step - accuracy: 0.8709 - loss: 0.3420 - val_accuracy: 0.9004 - val_loss: 0.2635\n",
      "Epoch 4/50\n",
      "834/834 - 56s - 67ms/step - accuracy: 0.8929 - loss: 0.2813 - val_accuracy: 0.9080 - val_loss: 0.2541\n",
      "Epoch 5/50\n",
      "834/834 - 56s - 68ms/step - accuracy: 0.9115 - loss: 0.2302 - val_accuracy: 0.9116 - val_loss: 0.2596\n",
      "Epoch 6/50\n",
      "834/834 - 56s - 67ms/step - accuracy: 0.9275 - loss: 0.1947 - val_accuracy: 0.9036 - val_loss: 0.2561\n",
      "Epoch 7/50\n",
      "834/834 - 56s - 67ms/step - accuracy: 0.9358 - loss: 0.1705 - val_accuracy: 0.9196 - val_loss: 0.2031\n",
      "Epoch 8/50\n",
      "834/834 - 55s - 66ms/step - accuracy: 0.9471 - loss: 0.1421 - val_accuracy: 0.9344 - val_loss: 0.1760\n",
      "Epoch 9/50\n",
      "834/834 - 55s - 66ms/step - accuracy: 0.9509 - loss: 0.1309 - val_accuracy: 0.9240 - val_loss: 0.2115\n",
      "Epoch 10/50\n",
      "834/834 - 55s - 66ms/step - accuracy: 0.9615 - loss: 0.1057 - val_accuracy: 0.9228 - val_loss: 0.2669\n",
      "Epoch 11/50\n",
      "834/834 - 55s - 66ms/step - accuracy: 0.9638 - loss: 0.1022 - val_accuracy: 0.9284 - val_loss: 0.2119\n",
      "Garbage collector: collected 53 objects.\n",
      "Reading data from: /kaggle/input/imageoasis-150x180-aug-5fold/fold_5/train\n",
      "Found 20000 files belonging to 4 classes.\n",
      "Reading data from: /kaggle/input/imageoasis-150x180-aug-5fold/fold_5/val\n",
      "Found 5000 files belonging to 4 classes.\n",
      "Training for fold-5:\n"
     ]
    },
    {
     "data": {
      "text/html": [
       "<pre style=\"white-space:pre;overflow-x:auto;line-height:normal;font-family:Menlo,'DejaVu Sans Mono',consolas,'Courier New',monospace\"><span style=\"font-weight: bold\">Model: \"functional_9\"</span>\n",
       "</pre>\n"
      ],
      "text/plain": [
       "\u001b[1mModel: \"functional_9\"\u001b[0m\n"
      ]
     },
     "metadata": {},
     "output_type": "display_data"
    },
    {
     "data": {
      "text/html": [
       "<pre style=\"white-space:pre;overflow-x:auto;line-height:normal;font-family:Menlo,'DejaVu Sans Mono',consolas,'Courier New',monospace\">┏━━━━━━━━━━━━━━━━━━━━━━━━━━━━━━━━━┳━━━━━━━━━━━━━━━━━━━━━━━━┳━━━━━━━━━━━━━━━┓\n",
       "┃<span style=\"font-weight: bold\"> Layer (type)                    </span>┃<span style=\"font-weight: bold\"> Output Shape           </span>┃<span style=\"font-weight: bold\">       Param # </span>┃\n",
       "┡━━━━━━━━━━━━━━━━━━━━━━━━━━━━━━━━━╇━━━━━━━━━━━━━━━━━━━━━━━━╇━━━━━━━━━━━━━━━┩\n",
       "│ input_layer_9 (<span style=\"color: #0087ff; text-decoration-color: #0087ff\">InputLayer</span>)      │ (<span style=\"color: #00d7ff; text-decoration-color: #00d7ff\">None</span>, <span style=\"color: #00af00; text-decoration-color: #00af00\">150</span>, <span style=\"color: #00af00; text-decoration-color: #00af00\">180</span>, <span style=\"color: #00af00; text-decoration-color: #00af00\">3</span>)    │             <span style=\"color: #00af00; text-decoration-color: #00af00\">0</span> │\n",
       "├─────────────────────────────────┼────────────────────────┼───────────────┤\n",
       "│ xception (<span style=\"color: #0087ff; text-decoration-color: #0087ff\">Functional</span>)           │ (<span style=\"color: #00d7ff; text-decoration-color: #00d7ff\">None</span>, <span style=\"color: #00af00; text-decoration-color: #00af00\">5</span>, <span style=\"color: #00af00; text-decoration-color: #00af00\">6</span>, <span style=\"color: #00af00; text-decoration-color: #00af00\">2048</span>)     │    <span style=\"color: #00af00; text-decoration-color: #00af00\">20,861,480</span> │\n",
       "├─────────────────────────────────┼────────────────────────┼───────────────┤\n",
       "│ GAPool2D                        │ (<span style=\"color: #00d7ff; text-decoration-color: #00d7ff\">None</span>, <span style=\"color: #00af00; text-decoration-color: #00af00\">2048</span>)           │             <span style=\"color: #00af00; text-decoration-color: #00af00\">0</span> │\n",
       "│ (<span style=\"color: #0087ff; text-decoration-color: #0087ff\">GlobalAveragePooling2D</span>)        │                        │               │\n",
       "├─────────────────────────────────┼────────────────────────┼───────────────┤\n",
       "│ FC_1 (<span style=\"color: #0087ff; text-decoration-color: #0087ff\">Dense</span>)                    │ (<span style=\"color: #00d7ff; text-decoration-color: #00d7ff\">None</span>, <span style=\"color: #00af00; text-decoration-color: #00af00\">512</span>)            │     <span style=\"color: #00af00; text-decoration-color: #00af00\">1,049,088</span> │\n",
       "├─────────────────────────────────┼────────────────────────┼───────────────┤\n",
       "│ Drop_1 (<span style=\"color: #0087ff; text-decoration-color: #0087ff\">Dropout</span>)                │ (<span style=\"color: #00d7ff; text-decoration-color: #00d7ff\">None</span>, <span style=\"color: #00af00; text-decoration-color: #00af00\">512</span>)            │             <span style=\"color: #00af00; text-decoration-color: #00af00\">0</span> │\n",
       "├─────────────────────────────────┼────────────────────────┼───────────────┤\n",
       "│ FC_classifier (<span style=\"color: #0087ff; text-decoration-color: #0087ff\">Dense</span>)           │ (<span style=\"color: #00d7ff; text-decoration-color: #00d7ff\">None</span>, <span style=\"color: #00af00; text-decoration-color: #00af00\">4</span>)              │         <span style=\"color: #00af00; text-decoration-color: #00af00\">2,052</span> │\n",
       "└─────────────────────────────────┴────────────────────────┴───────────────┘\n",
       "</pre>\n"
      ],
      "text/plain": [
       "┏━━━━━━━━━━━━━━━━━━━━━━━━━━━━━━━━━┳━━━━━━━━━━━━━━━━━━━━━━━━┳━━━━━━━━━━━━━━━┓\n",
       "┃\u001b[1m \u001b[0m\u001b[1mLayer (type)                   \u001b[0m\u001b[1m \u001b[0m┃\u001b[1m \u001b[0m\u001b[1mOutput Shape          \u001b[0m\u001b[1m \u001b[0m┃\u001b[1m \u001b[0m\u001b[1m      Param #\u001b[0m\u001b[1m \u001b[0m┃\n",
       "┡━━━━━━━━━━━━━━━━━━━━━━━━━━━━━━━━━╇━━━━━━━━━━━━━━━━━━━━━━━━╇━━━━━━━━━━━━━━━┩\n",
       "│ input_layer_9 (\u001b[38;5;33mInputLayer\u001b[0m)      │ (\u001b[38;5;45mNone\u001b[0m, \u001b[38;5;34m150\u001b[0m, \u001b[38;5;34m180\u001b[0m, \u001b[38;5;34m3\u001b[0m)    │             \u001b[38;5;34m0\u001b[0m │\n",
       "├─────────────────────────────────┼────────────────────────┼───────────────┤\n",
       "│ xception (\u001b[38;5;33mFunctional\u001b[0m)           │ (\u001b[38;5;45mNone\u001b[0m, \u001b[38;5;34m5\u001b[0m, \u001b[38;5;34m6\u001b[0m, \u001b[38;5;34m2048\u001b[0m)     │    \u001b[38;5;34m20,861,480\u001b[0m │\n",
       "├─────────────────────────────────┼────────────────────────┼───────────────┤\n",
       "│ GAPool2D                        │ (\u001b[38;5;45mNone\u001b[0m, \u001b[38;5;34m2048\u001b[0m)           │             \u001b[38;5;34m0\u001b[0m │\n",
       "│ (\u001b[38;5;33mGlobalAveragePooling2D\u001b[0m)        │                        │               │\n",
       "├─────────────────────────────────┼────────────────────────┼───────────────┤\n",
       "│ FC_1 (\u001b[38;5;33mDense\u001b[0m)                    │ (\u001b[38;5;45mNone\u001b[0m, \u001b[38;5;34m512\u001b[0m)            │     \u001b[38;5;34m1,049,088\u001b[0m │\n",
       "├─────────────────────────────────┼────────────────────────┼───────────────┤\n",
       "│ Drop_1 (\u001b[38;5;33mDropout\u001b[0m)                │ (\u001b[38;5;45mNone\u001b[0m, \u001b[38;5;34m512\u001b[0m)            │             \u001b[38;5;34m0\u001b[0m │\n",
       "├─────────────────────────────────┼────────────────────────┼───────────────┤\n",
       "│ FC_classifier (\u001b[38;5;33mDense\u001b[0m)           │ (\u001b[38;5;45mNone\u001b[0m, \u001b[38;5;34m4\u001b[0m)              │         \u001b[38;5;34m2,052\u001b[0m │\n",
       "└─────────────────────────────────┴────────────────────────┴───────────────┘\n"
      ]
     },
     "metadata": {},
     "output_type": "display_data"
    },
    {
     "data": {
      "text/html": [
       "<pre style=\"white-space:pre;overflow-x:auto;line-height:normal;font-family:Menlo,'DejaVu Sans Mono',consolas,'Courier New',monospace\"><span style=\"font-weight: bold\"> Total params: </span><span style=\"color: #00af00; text-decoration-color: #00af00\">21,912,620</span> (83.59 MB)\n",
       "</pre>\n"
      ],
      "text/plain": [
       "\u001b[1m Total params: \u001b[0m\u001b[38;5;34m21,912,620\u001b[0m (83.59 MB)\n"
      ]
     },
     "metadata": {},
     "output_type": "display_data"
    },
    {
     "data": {
      "text/html": [
       "<pre style=\"white-space:pre;overflow-x:auto;line-height:normal;font-family:Menlo,'DejaVu Sans Mono',consolas,'Courier New',monospace\"><span style=\"font-weight: bold\"> Trainable params: </span><span style=\"color: #00af00; text-decoration-color: #00af00\">5,799,940</span> (22.13 MB)\n",
       "</pre>\n"
      ],
      "text/plain": [
       "\u001b[1m Trainable params: \u001b[0m\u001b[38;5;34m5,799,940\u001b[0m (22.13 MB)\n"
      ]
     },
     "metadata": {},
     "output_type": "display_data"
    },
    {
     "data": {
      "text/html": [
       "<pre style=\"white-space:pre;overflow-x:auto;line-height:normal;font-family:Menlo,'DejaVu Sans Mono',consolas,'Courier New',monospace\"><span style=\"font-weight: bold\"> Non-trainable params: </span><span style=\"color: #00af00; text-decoration-color: #00af00\">16,112,680</span> (61.46 MB)\n",
       "</pre>\n"
      ],
      "text/plain": [
       "\u001b[1m Non-trainable params: \u001b[0m\u001b[38;5;34m16,112,680\u001b[0m (61.46 MB)\n"
      ]
     },
     "metadata": {},
     "output_type": "display_data"
    },
    {
     "name": "stdout",
     "output_type": "stream",
     "text": [
      "Epoch 1/50\n",
      "834/834 - 91s - 109ms/step - accuracy: 0.6803 - loss: 0.7622 - val_accuracy: 0.8208 - val_loss: 0.4624\n",
      "Epoch 2/50\n",
      "834/834 - 56s - 68ms/step - accuracy: 0.8201 - loss: 0.4584 - val_accuracy: 0.8668 - val_loss: 0.3385\n",
      "Epoch 3/50\n",
      "834/834 - 56s - 68ms/step - accuracy: 0.8723 - loss: 0.3426 - val_accuracy: 0.8900 - val_loss: 0.2998\n",
      "Epoch 4/50\n",
      "834/834 - 57s - 68ms/step - accuracy: 0.8995 - loss: 0.2747 - val_accuracy: 0.9128 - val_loss: 0.2280\n",
      "Epoch 5/50\n",
      "834/834 - 56s - 67ms/step - accuracy: 0.9106 - loss: 0.2363 - val_accuracy: 0.9048 - val_loss: 0.2462\n",
      "Epoch 6/50\n",
      "834/834 - 57s - 68ms/step - accuracy: 0.9306 - loss: 0.1873 - val_accuracy: 0.9268 - val_loss: 0.2110\n",
      "Epoch 7/50\n",
      "834/834 - 56s - 67ms/step - accuracy: 0.9365 - loss: 0.1667 - val_accuracy: 0.9320 - val_loss: 0.1848\n",
      "Epoch 8/50\n",
      "834/834 - 56s - 67ms/step - accuracy: 0.9490 - loss: 0.1343 - val_accuracy: 0.9276 - val_loss: 0.1984\n",
      "Epoch 9/50\n",
      "834/834 - 57s - 68ms/step - accuracy: 0.9506 - loss: 0.1308 - val_accuracy: 0.9412 - val_loss: 0.1691\n",
      "Epoch 10/50\n",
      "834/834 - 57s - 68ms/step - accuracy: 0.9615 - loss: 0.1073 - val_accuracy: 0.9432 - val_loss: 0.1765\n",
      "Epoch 11/50\n",
      "834/834 - 56s - 67ms/step - accuracy: 0.9566 - loss: 0.1112 - val_accuracy: 0.9236 - val_loss: 0.2193\n",
      "Epoch 12/50\n",
      "834/834 - 57s - 68ms/step - accuracy: 0.9683 - loss: 0.0905 - val_accuracy: 0.9488 - val_loss: 0.1535\n",
      "Epoch 13/50\n",
      "834/834 - 56s - 68ms/step - accuracy: 0.9691 - loss: 0.0883 - val_accuracy: 0.9328 - val_loss: 0.2348\n",
      "Epoch 14/50\n",
      "834/834 - 55s - 66ms/step - accuracy: 0.9735 - loss: 0.0746 - val_accuracy: 0.9396 - val_loss: 0.1679\n",
      "Epoch 15/50\n",
      "834/834 - 56s - 67ms/step - accuracy: 0.9744 - loss: 0.0743 - val_accuracy: 0.9552 - val_loss: 0.1347\n",
      "Epoch 16/50\n",
      "834/834 - 55s - 67ms/step - accuracy: 0.9750 - loss: 0.0710 - val_accuracy: 0.9452 - val_loss: 0.1707\n",
      "Epoch 17/50\n",
      "834/834 - 56s - 67ms/step - accuracy: 0.9771 - loss: 0.0630 - val_accuracy: 0.8856 - val_loss: 0.3560\n",
      "Epoch 18/50\n",
      "834/834 - 56s - 67ms/step - accuracy: 0.9790 - loss: 0.0574 - val_accuracy: 0.9168 - val_loss: 0.3714\n",
      "Garbage collector: collected 53 objects.\n"
     ]
    }
   ],
   "source": [
    "for x in range(1, (K_FOLD+1)):\n",
    "    data_train = data_read_preprocess(x, train_data=True)\n",
    "    data_val = data_read_preprocess(x, train_data=False)\n",
    "    \n",
    "    print(f\"Training for fold-{x}:\")\n",
    "    with strategy.scope():\n",
    "        model = get_model(6)\n",
    "        \n",
    "    history =  model.fit(data_train,\n",
    "                         epochs=EPOCHS,\n",
    "                         verbose=2,\n",
    "                         callbacks=get_callbacks(x),\n",
    "                         validation_data=data_val)\n",
    "    \n",
    "    model.save(f'/kaggle/working/model_log_{IMG_HEIGHT}x{IMG_WIDTH}_{K_FOLD}fold/model_fold-{x}.keras')\n",
    "    with open(f'/kaggle/working/model_log_{IMG_HEIGHT}x{IMG_WIDTH}_{K_FOLD}fold/train_history_fold-{x}.pickle', 'wb') as handler:\n",
    "        pickle.dump(history.history, handler)\n",
    "        \n",
    "    del data_train\n",
    "    del data_val\n",
    "    del model\n",
    "    del history\n",
    "    print(\"Garbage collector: collected %d objects.\" % (GC_COUNT))"
   ]
  }
 ],
 "metadata": {
  "kaggle": {
   "accelerator": "nvidiaTeslaT4",
   "dataSources": [
    {
     "datasetId": 5046085,
     "sourceId": 8464306,
     "sourceType": "datasetVersion"
    }
   ],
   "dockerImageVersionId": 30699,
   "isGpuEnabled": true,
   "isInternetEnabled": true,
   "language": "python",
   "sourceType": "notebook"
  },
  "kernelspec": {
   "display_name": "Python 3",
   "language": "python",
   "name": "python3"
  },
  "language_info": {
   "codemirror_mode": {
    "name": "ipython",
    "version": 3
   },
   "file_extension": ".py",
   "mimetype": "text/x-python",
   "name": "python",
   "nbconvert_exporter": "python",
   "pygments_lexer": "ipython3",
   "version": "3.10.13"
  },
  "papermill": {
   "default_parameters": {},
   "duration": 3866.915378,
   "end_time": "2024-05-27T09:15:53.446342",
   "environment_variables": {},
   "exception": null,
   "input_path": "__notebook__.ipynb",
   "output_path": "__notebook__.ipynb",
   "parameters": {},
   "start_time": "2024-05-27T08:11:26.530964",
   "version": "2.5.0"
  }
 },
 "nbformat": 4,
 "nbformat_minor": 5
}
